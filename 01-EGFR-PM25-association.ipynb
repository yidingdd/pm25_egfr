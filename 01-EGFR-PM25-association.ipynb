{
 "cells": [
  {
   "cell_type": "markdown",
   "id": "49aa505d-be9b-4ec3-876d-ee297c9ddb55",
   "metadata": {},
   "source": [
    "# 1. Set up"
   ]
  },
  {
   "cell_type": "code",
   "execution_count": 1,
   "id": "07e5ebd2-24f4-4201-b691-7fd8a8818ee4",
   "metadata": {},
   "outputs": [],
   "source": [
    "# load data\n",
    "\n",
    "source('setup.R')\n",
    "\n",
    "df <- readRDS('nsclc_egfr_pm25_09022015.rds') %>% filter(Predicted_Pop == 'EUR') "
   ]
  },
  {
   "cell_type": "code",
   "execution_count": 2,
   "id": "2e8966fe-435e-412a-8730-ebd73f160334",
   "metadata": {},
   "outputs": [],
   "source": [
    "OUTCOME <- \"EGFR\"\n",
    "COVAR_OF_INTEREST <- \"PM25_cat9\"\n",
    "SECONDARY_MUT <- ifelse(OUTCOME == \"EGFR\", \"KRAS\", \"EGFR\")\n",
    "\n",
    "COVAR_BASELINE <- c(\n",
    "    \"AGE\", \"GENDER_NM\", \"PANEL_VERSION\", \"STAGE\", \"YEAR_TEST\", \"SMOKE\", \n",
    "    \"PC1\", \"PC2\", \"PC3\", \"PC4\", \"PC5\", \"LUAD\"\n",
    ")\n",
    "COVAR_TMB <- \"MUTATIONAL_BURDEN\"\n",
    "COVAR_SES <- c(\"avg_pct_poverty\", \"avg_med_income\", \"avg_pct_low_edu\")"
   ]
  },
  {
   "cell_type": "code",
   "execution_count": 3,
   "id": "85a3d6e2-c428-4020-8284-13f3c70fe0d8",
   "metadata": {},
   "outputs": [],
   "source": [
    "reg_df <- bind_rows(\n",
    "    df %>% mutate(group = ifelse(SMOKE, 's', 'ns')),\n",
    "    df %>% mutate(group = 'all')\n",
    ")"
   ]
  },
  {
   "cell_type": "markdown",
   "id": "58b5518e-328a-4b80-befd-6eecd2dcb9cc",
   "metadata": {},
   "source": [
    "# 2. functions"
   ]
  },
  {
   "cell_type": "code",
   "execution_count": 4,
   "id": "03e08b5c-82d2-40c8-ab97-f79a9f4a2fb2",
   "metadata": {},
   "outputs": [],
   "source": [
    "format_text <- function(rls_df, PRINT = TRUE){\n",
    "    OR = round(rls_df[1,3], 2)\n",
    "    pval = formatC(rls_df[1,2], format = \"g\", digits = 2)\n",
    "    CI_lower = round(rls_df[1,4], 2)\n",
    "    CI_upper = round(rls_df[1,5], 2)\n",
    "    \n",
    "    if(PRINT){\n",
    "        print(glue('OR = {OR} (95% CI {CI_lower}-{CI_upper}, p-value = {pval})'))\n",
    "    }\n",
    "    \n",
    "    return(\n",
    "        list(\n",
    "            effect = glue('{OR} ({CI_lower}-{CI_upper})'), \n",
    "            pval = pval\n",
    "        )\n",
    "    \n",
    "    \n",
    "    )\n",
    "\n",
    "}\n",
    "\n",
    "run_tests <- function(test, formula, data){\n",
    "    model_list <- list()\n",
    "    rls_list <- list(test = test)\n",
    "    for (g in c('all', 'ns','s')){\n",
    "        model <- glm(formula, data = reg_df %>% filter(group == g), family = binomial())\n",
    "        rls <- summary_result(model, COVAR_OF_INTEREST, 3)\n",
    "        model_list[[g]] <- model\n",
    "        rls_list[[glue('{g}_effect')]] <- format_text(rls, PRINT = FALSE)$effect\n",
    "        rls_list[[glue('{g}_pval')]] <- format_text(rls, PRINT = FALSE)$pval\n",
    "    }\n",
    "    return(data.frame(rls_list))\n",
    "}"
   ]
  },
  {
   "cell_type": "markdown",
   "id": "afa6af0f-0e3c-42fb-a1fb-592f12ce0294",
   "metadata": {},
   "source": [
    "# 3. header"
   ]
  },
  {
   "cell_type": "code",
   "execution_count": 5,
   "id": "5316f46c-68f2-4082-8bf7-ca07977c715b",
   "metadata": {},
   "outputs": [
    {
     "name": "stdout",
     "output_type": "stream",
     "text": [
      "Total: 2312 | Non-smokers: 435 | Smokers: 1877 \n"
     ]
    },
    {
     "data": {
      "text/html": [
       "<table class=\"dataframe\">\n",
       "<caption>A tibble: 0 × 7</caption>\n",
       "<thead>\n",
       "\t<tr><th scope=col>test</th><th scope=col>all_effect</th><th scope=col>all_pval</th><th scope=col>ns_effect</th><th scope=col>ns_pval</th><th scope=col>s_effect</th><th scope=col>s_pval</th></tr>\n",
       "\t<tr><th scope=col>&lt;chr&gt;</th><th scope=col>&lt;chr&gt;</th><th scope=col>&lt;chr&gt;</th><th scope=col>&lt;chr&gt;</th><th scope=col>&lt;chr&gt;</th><th scope=col>&lt;chr&gt;</th><th scope=col>&lt;chr&gt;</th></tr>\n",
       "</thead>\n",
       "<tbody>\n",
       "</tbody>\n",
       "</table>\n"
      ],
      "text/latex": [
       "A tibble: 0 × 7\n",
       "\\begin{tabular}{lllllll}\n",
       " test & all\\_effect & all\\_pval & ns\\_effect & ns\\_pval & s\\_effect & s\\_pval\\\\\n",
       " <chr> & <chr> & <chr> & <chr> & <chr> & <chr> & <chr>\\\\\n",
       "\\hline\n",
       "\\end{tabular}\n"
      ],
      "text/markdown": [
       "\n",
       "A tibble: 0 × 7\n",
       "\n",
       "| test &lt;chr&gt; | all_effect &lt;chr&gt; | all_pval &lt;chr&gt; | ns_effect &lt;chr&gt; | ns_pval &lt;chr&gt; | s_effect &lt;chr&gt; | s_pval &lt;chr&gt; |\n",
       "|---|---|---|---|---|---|---|\n",
       "\n"
      ],
      "text/plain": [
       "     test all_effect all_pval ns_effect ns_pval s_effect s_pval"
      ]
     },
     "metadata": {},
     "output_type": "display_data"
    }
   ],
   "source": [
    "# header \n",
    "# ALL NSCLC European patients, \n",
    "n_all <- df %>% nrow()\n",
    "n_non_smoker <- df %>% filter(!SMOKE) %>% nrow()\n",
    "n_smoker <- df %>% filter(SMOKE) %>% nrow()\n",
    "\n",
    "cat(\"Total:\", n_all, \"| Non-smokers:\", n_non_smoker, \"| Smokers:\", n_smoker, \"\\n\")\n",
    "\n",
    "dft <- tibble(\n",
    "    test = character(),\n",
    "    all_effect= character(),\n",
    "    all_pval = character(),\n",
    "    ns_effect = character(),\n",
    "    ns_pval = character(),\n",
    "    s_effect = character(),\n",
    "    s_pval = character()\n",
    ")\n",
    "\n",
    "dft"
   ]
  },
  {
   "cell_type": "markdown",
   "id": "271f7f24-3fb0-42b2-80f1-4057c1e8c0ba",
   "metadata": {},
   "source": [
    "# 4. Models: binary PM2.5"
   ]
  },
  {
   "cell_type": "code",
   "execution_count": 6,
   "id": "3718566d-c320-4464-8b3f-ae8f4db61ad6",
   "metadata": {},
   "outputs": [],
   "source": [
    "COVAR_OF_INTEREST <- \"PM25_cat9\""
   ]
  },
  {
   "cell_type": "markdown",
   "id": "64893d9b-264f-49b4-b8b4-30f714116c30",
   "metadata": {},
   "source": [
    "## 4.1 non-adjusted"
   ]
  },
  {
   "cell_type": "code",
   "execution_count": 7,
   "id": "e835e1a7-9a20-4406-b1fc-558ef13f3f08",
   "metadata": {},
   "outputs": [
    {
     "name": "stdout",
     "output_type": "stream",
     "text": [
      "PM2.5 > 9µg/m³ : EGFR ~ PM25_cat9---------------------------------------------------- \n"
     ]
    },
    {
     "data": {
      "text/html": [
       "<table class=\"dataframe\">\n",
       "<caption>A data.frame: 1 × 7</caption>\n",
       "<thead>\n",
       "\t<tr><th scope=col>test</th><th scope=col>all_effect</th><th scope=col>all_pval</th><th scope=col>ns_effect</th><th scope=col>ns_pval</th><th scope=col>s_effect</th><th scope=col>s_pval</th></tr>\n",
       "\t<tr><th scope=col>&lt;chr&gt;</th><th scope=col>&lt;glue&gt;</th><th scope=col>&lt;chr&gt;</th><th scope=col>&lt;glue&gt;</th><th scope=col>&lt;chr&gt;</th><th scope=col>&lt;glue&gt;</th><th scope=col>&lt;chr&gt;</th></tr>\n",
       "</thead>\n",
       "<tbody>\n",
       "\t<tr><td>PM2.5 &gt; 9µg/m³</td><td>1.79 (1.41-2.25)</td><td><span style=white-space:pre-wrap>  0</span></td><td>1.74 (1.15-2.64)</td><td>0.0085</td><td>1.57 (1.15-2.12)</td><td>0.0043</td></tr>\n",
       "</tbody>\n",
       "</table>\n"
      ],
      "text/latex": [
       "A data.frame: 1 × 7\n",
       "\\begin{tabular}{lllllll}\n",
       " test & all\\_effect & all\\_pval & ns\\_effect & ns\\_pval & s\\_effect & s\\_pval\\\\\n",
       " <chr> & <glue> & <chr> & <glue> & <chr> & <glue> & <chr>\\\\\n",
       "\\hline\n",
       "\t PM2.5 > 9µg/m³ & 1.79 (1.41-2.25) &   0 & 1.74 (1.15-2.64) & 0.0085 & 1.57 (1.15-2.12) & 0.0043\\\\\n",
       "\\end{tabular}\n"
      ],
      "text/markdown": [
       "\n",
       "A data.frame: 1 × 7\n",
       "\n",
       "| test &lt;chr&gt; | all_effect &lt;glue&gt; | all_pval &lt;chr&gt; | ns_effect &lt;glue&gt; | ns_pval &lt;chr&gt; | s_effect &lt;glue&gt; | s_pval &lt;chr&gt; |\n",
       "|---|---|---|---|---|---|---|\n",
       "| PM2.5 &gt; 9µg/m³ | 1.79 (1.41-2.25) |   0 | 1.74 (1.15-2.64) | 0.0085 | 1.57 (1.15-2.12) | 0.0043 |\n",
       "\n"
      ],
      "text/plain": [
       "  test           all_effect       all_pval ns_effect        ns_pval\n",
       "1 PM2.5 > 9µg/m³ 1.79 (1.41-2.25)   0      1.74 (1.15-2.64) 0.0085 \n",
       "  s_effect         s_pval\n",
       "1 1.57 (1.15-2.12) 0.0043"
      ]
     },
     "metadata": {},
     "output_type": "display_data"
    }
   ],
   "source": [
    "test <- 'PM2.5 > 9µg/m³'\n",
    "formula <- as.formula(paste(OUTCOME, \"~\", COVAR_OF_INTEREST))\n",
    "cat(test, ':', deparse(formula))\n",
    "cat('----------------------------------------------------', '\\n')\n",
    "rls_list <- run_tests(test, formula, reg_df)\n",
    "rls_list\n",
    "dft <- dft %>% add_row(data.frame(rls_list))"
   ]
  },
  {
   "cell_type": "markdown",
   "id": "ad2ed4fc-b4fa-44ff-90bb-b23a473338d8",
   "metadata": {},
   "source": [
    "## 4.2 adjusted: COVAR_BASELINE"
   ]
  },
  {
   "cell_type": "code",
   "execution_count": 8,
   "id": "db83388b-be92-41c9-b466-1766befdfe43",
   "metadata": {},
   "outputs": [
    {
     "name": "stdout",
     "output_type": "stream",
     "text": [
      "PM2.5 > 9µg/m³ + COVAR_BASELINE :\n",
      " EGFR ~ PM25_cat9 + AGE + GENDER_NM + PANEL_VERSION + STAGE +      YEAR_TEST + SMOKE + PC1 + PC2 + PC3 + PC4 + PC5 + LUAD \n",
      "---------------------------------------------------- \n"
     ]
    },
    {
     "data": {
      "text/html": [
       "<table class=\"dataframe\">\n",
       "<caption>A data.frame: 1 × 7</caption>\n",
       "<thead>\n",
       "\t<tr><th scope=col>test</th><th scope=col>all_effect</th><th scope=col>all_pval</th><th scope=col>ns_effect</th><th scope=col>ns_pval</th><th scope=col>s_effect</th><th scope=col>s_pval</th></tr>\n",
       "\t<tr><th scope=col>&lt;chr&gt;</th><th scope=col>&lt;glue&gt;</th><th scope=col>&lt;chr&gt;</th><th scope=col>&lt;glue&gt;</th><th scope=col>&lt;chr&gt;</th><th scope=col>&lt;glue&gt;</th><th scope=col>&lt;chr&gt;</th></tr>\n",
       "</thead>\n",
       "<tbody>\n",
       "\t<tr><td>PM2.5 &gt; 9µg/m³ + COVAR_BASELINE</td><td>1.69 (1.3-2.19)</td><td>0.0001</td><td>1.74 (1.12-2.72)</td><td>0.014</td><td>1.69 (1.22-2.33)</td><td>0.0014</td></tr>\n",
       "</tbody>\n",
       "</table>\n"
      ],
      "text/latex": [
       "A data.frame: 1 × 7\n",
       "\\begin{tabular}{lllllll}\n",
       " test & all\\_effect & all\\_pval & ns\\_effect & ns\\_pval & s\\_effect & s\\_pval\\\\\n",
       " <chr> & <glue> & <chr> & <glue> & <chr> & <glue> & <chr>\\\\\n",
       "\\hline\n",
       "\t PM2.5 > 9µg/m³ + COVAR\\_BASELINE & 1.69 (1.3-2.19) & 0.0001 & 1.74 (1.12-2.72) & 0.014 & 1.69 (1.22-2.33) & 0.0014\\\\\n",
       "\\end{tabular}\n"
      ],
      "text/markdown": [
       "\n",
       "A data.frame: 1 × 7\n",
       "\n",
       "| test &lt;chr&gt; | all_effect &lt;glue&gt; | all_pval &lt;chr&gt; | ns_effect &lt;glue&gt; | ns_pval &lt;chr&gt; | s_effect &lt;glue&gt; | s_pval &lt;chr&gt; |\n",
       "|---|---|---|---|---|---|---|\n",
       "| PM2.5 &gt; 9µg/m³ + COVAR_BASELINE | 1.69 (1.3-2.19) | 0.0001 | 1.74 (1.12-2.72) | 0.014 | 1.69 (1.22-2.33) | 0.0014 |\n",
       "\n"
      ],
      "text/plain": [
       "  test                            all_effect      all_pval ns_effect       \n",
       "1 PM2.5 > 9µg/m³ + COVAR_BASELINE 1.69 (1.3-2.19) 0.0001   1.74 (1.12-2.72)\n",
       "  ns_pval s_effect         s_pval\n",
       "1 0.014   1.69 (1.22-2.33) 0.0014"
      ]
     },
     "metadata": {},
     "output_type": "display_data"
    }
   ],
   "source": [
    "test <- 'PM2.5 > 9µg/m³ + COVAR_BASELINE'\n",
    "formula <- as.formula(paste(OUTCOME, \"~\", paste0(c(COVAR_OF_INTEREST, COVAR_BASELINE), collapse = '+')))\n",
    "cat(test, ':\\n', deparse(formula), '\\n')\n",
    "cat('----------------------------------------------------', '\\n')\n",
    "rls_list <- run_tests(test, formula, reg_df)\n",
    "rls_list\n",
    "dft <- dft %>% add_row(data.frame(rls_list))"
   ]
  },
  {
   "cell_type": "markdown",
   "id": "17382c68-beb0-4cbd-bfa9-076d0602cf81",
   "metadata": {},
   "source": [
    "## 4.3 adjusted: COVAR_BASELINE + TMB"
   ]
  },
  {
   "cell_type": "code",
   "execution_count": 9,
   "id": "4cd2eb12-4d74-4fda-9158-0efd8a2afa2b",
   "metadata": {},
   "outputs": [
    {
     "name": "stdout",
     "output_type": "stream",
     "text": [
      "PM2.5 > 9µg/m³ + COVAR_BASELINE + TMB :\n",
      " EGFR ~ PM25_cat9 + AGE + GENDER_NM + PANEL_VERSION + STAGE +      YEAR_TEST + SMOKE + PC1 + PC2 + PC3 + PC4 + PC5 + LUAD +      MUTATIONAL_BURDEN \n",
      "---------------------------------------------------- \n"
     ]
    },
    {
     "data": {
      "text/html": [
       "<table class=\"dataframe\">\n",
       "<caption>A data.frame: 1 × 7</caption>\n",
       "<thead>\n",
       "\t<tr><th scope=col>test</th><th scope=col>all_effect</th><th scope=col>all_pval</th><th scope=col>ns_effect</th><th scope=col>ns_pval</th><th scope=col>s_effect</th><th scope=col>s_pval</th></tr>\n",
       "\t<tr><th scope=col>&lt;chr&gt;</th><th scope=col>&lt;glue&gt;</th><th scope=col>&lt;chr&gt;</th><th scope=col>&lt;glue&gt;</th><th scope=col>&lt;chr&gt;</th><th scope=col>&lt;glue&gt;</th><th scope=col>&lt;chr&gt;</th></tr>\n",
       "</thead>\n",
       "<tbody>\n",
       "\t<tr><td>PM2.5 &gt; 9µg/m³ + COVAR_BASELINE + TMB</td><td>1.62 (1.24-2.1)</td><td>0.0003</td><td>1.74 (1.12-2.73)</td><td>0.014</td><td>1.57 (1.12-2.18)</td><td>0.0081</td></tr>\n",
       "</tbody>\n",
       "</table>\n"
      ],
      "text/latex": [
       "A data.frame: 1 × 7\n",
       "\\begin{tabular}{lllllll}\n",
       " test & all\\_effect & all\\_pval & ns\\_effect & ns\\_pval & s\\_effect & s\\_pval\\\\\n",
       " <chr> & <glue> & <chr> & <glue> & <chr> & <glue> & <chr>\\\\\n",
       "\\hline\n",
       "\t PM2.5 > 9µg/m³ + COVAR\\_BASELINE + TMB & 1.62 (1.24-2.1) & 0.0003 & 1.74 (1.12-2.73) & 0.014 & 1.57 (1.12-2.18) & 0.0081\\\\\n",
       "\\end{tabular}\n"
      ],
      "text/markdown": [
       "\n",
       "A data.frame: 1 × 7\n",
       "\n",
       "| test &lt;chr&gt; | all_effect &lt;glue&gt; | all_pval &lt;chr&gt; | ns_effect &lt;glue&gt; | ns_pval &lt;chr&gt; | s_effect &lt;glue&gt; | s_pval &lt;chr&gt; |\n",
       "|---|---|---|---|---|---|---|\n",
       "| PM2.5 &gt; 9µg/m³ + COVAR_BASELINE + TMB | 1.62 (1.24-2.1) | 0.0003 | 1.74 (1.12-2.73) | 0.014 | 1.57 (1.12-2.18) | 0.0081 |\n",
       "\n"
      ],
      "text/plain": [
       "  test                                  all_effect      all_pval\n",
       "1 PM2.5 > 9µg/m³ + COVAR_BASELINE + TMB 1.62 (1.24-2.1) 0.0003  \n",
       "  ns_effect        ns_pval s_effect         s_pval\n",
       "1 1.74 (1.12-2.73) 0.014   1.57 (1.12-2.18) 0.0081"
      ]
     },
     "metadata": {},
     "output_type": "display_data"
    }
   ],
   "source": [
    "test <- 'PM2.5 > 9µg/m³ + COVAR_BASELINE + TMB'\n",
    "formula <- as.formula(paste(OUTCOME, \"~\", paste0(c(COVAR_OF_INTEREST, COVAR_BASELINE, COVAR_TMB), collapse = '+')))\n",
    "cat(test, ':\\n', deparse(formula), '\\n')\n",
    "cat('----------------------------------------------------', '\\n')\n",
    "rls_list <- run_tests(test, formula, reg_df)\n",
    "rls_list\n",
    "dft <- dft %>% add_row(data.frame(rls_list))"
   ]
  },
  {
   "cell_type": "markdown",
   "id": "ce02f967-887c-40e6-9a83-034774f744fa",
   "metadata": {},
   "source": [
    "## 4.4 adjusted: COVAR_BASELINE + TMB + SES"
   ]
  },
  {
   "cell_type": "code",
   "execution_count": 10,
   "id": "795f7e55-2bb6-4b05-832c-91d460207aaa",
   "metadata": {},
   "outputs": [
    {
     "name": "stdout",
     "output_type": "stream",
     "text": [
      "PM2.5 > 9µg/m³ + COVAR_BASELINE + TMB + SES :\n",
      " EGFR ~ PM25_cat9 + AGE + GENDER_NM + PANEL_VERSION + STAGE +      YEAR_TEST + SMOKE + PC1 + PC2 + PC3 + PC4 + PC5 + LUAD +      MUTATIONAL_BURDEN + avg_pct_poverty + avg_med_income + avg_pct_low_edu \n",
      "---------------------------------------------------- \n"
     ]
    },
    {
     "data": {
      "text/html": [
       "<table class=\"dataframe\">\n",
       "<caption>A data.frame: 1 × 7</caption>\n",
       "<thead>\n",
       "\t<tr><th scope=col>test</th><th scope=col>all_effect</th><th scope=col>all_pval</th><th scope=col>ns_effect</th><th scope=col>ns_pval</th><th scope=col>s_effect</th><th scope=col>s_pval</th></tr>\n",
       "\t<tr><th scope=col>&lt;chr&gt;</th><th scope=col>&lt;glue&gt;</th><th scope=col>&lt;chr&gt;</th><th scope=col>&lt;glue&gt;</th><th scope=col>&lt;chr&gt;</th><th scope=col>&lt;glue&gt;</th><th scope=col>&lt;chr&gt;</th></tr>\n",
       "</thead>\n",
       "<tbody>\n",
       "\t<tr><td>PM2.5 &gt; 9µg/m³ + COVAR_BASELINE + TMB + SES</td><td>1.66 (1.25-2.2)</td><td>0.0005</td><td>1.69 (1.04-2.73)</td><td>0.033</td><td>1.66 (1.15-2.37)</td><td>0.006</td></tr>\n",
       "</tbody>\n",
       "</table>\n"
      ],
      "text/latex": [
       "A data.frame: 1 × 7\n",
       "\\begin{tabular}{lllllll}\n",
       " test & all\\_effect & all\\_pval & ns\\_effect & ns\\_pval & s\\_effect & s\\_pval\\\\\n",
       " <chr> & <glue> & <chr> & <glue> & <chr> & <glue> & <chr>\\\\\n",
       "\\hline\n",
       "\t PM2.5 > 9µg/m³ + COVAR\\_BASELINE + TMB + SES & 1.66 (1.25-2.2) & 0.0005 & 1.69 (1.04-2.73) & 0.033 & 1.66 (1.15-2.37) & 0.006\\\\\n",
       "\\end{tabular}\n"
      ],
      "text/markdown": [
       "\n",
       "A data.frame: 1 × 7\n",
       "\n",
       "| test &lt;chr&gt; | all_effect &lt;glue&gt; | all_pval &lt;chr&gt; | ns_effect &lt;glue&gt; | ns_pval &lt;chr&gt; | s_effect &lt;glue&gt; | s_pval &lt;chr&gt; |\n",
       "|---|---|---|---|---|---|---|\n",
       "| PM2.5 &gt; 9µg/m³ + COVAR_BASELINE + TMB + SES | 1.66 (1.25-2.2) | 0.0005 | 1.69 (1.04-2.73) | 0.033 | 1.66 (1.15-2.37) | 0.006 |\n",
       "\n"
      ],
      "text/plain": [
       "  test                                        all_effect      all_pval\n",
       "1 PM2.5 > 9µg/m³ + COVAR_BASELINE + TMB + SES 1.66 (1.25-2.2) 0.0005  \n",
       "  ns_effect        ns_pval s_effect         s_pval\n",
       "1 1.69 (1.04-2.73) 0.033   1.66 (1.15-2.37) 0.006 "
      ]
     },
     "metadata": {},
     "output_type": "display_data"
    }
   ],
   "source": [
    "test <- 'PM2.5 > 9µg/m³ + COVAR_BASELINE + TMB + SES'\n",
    "formula <- as.formula(paste(OUTCOME, \"~\", paste0(c(COVAR_OF_INTEREST, COVAR_BASELINE, COVAR_TMB, COVAR_SES), collapse = '+')))\n",
    "cat(test, ':\\n', deparse(formula), '\\n')\n",
    "cat('----------------------------------------------------', '\\n')\n",
    "rls_list <- run_tests(test, formula, reg_df)\n",
    "rls_list\n",
    "dft <- dft %>% add_row(data.frame(rls_list))"
   ]
  },
  {
   "cell_type": "markdown",
   "id": "519e1a2a-a11c-4b6a-933c-e4caa271928d",
   "metadata": {},
   "source": [
    "## 4.5 adjusted: COVAR_BASELINE + TMB + SES + SECONDARY_MUT"
   ]
  },
  {
   "cell_type": "code",
   "execution_count": 11,
   "id": "31c754e3-4dec-487e-8bdb-b45e1fd813fa",
   "metadata": {},
   "outputs": [
    {
     "name": "stdout",
     "output_type": "stream",
     "text": [
      "PM2.5 > 9µg/m³ + COVAR_BASELINE + TMB + SES + KRAS :\n",
      " EGFR ~ PM25_cat9 + AGE + GENDER_NM + PANEL_VERSION + STAGE +      YEAR_TEST + SMOKE + PC1 + PC2 + PC3 + PC4 + PC5 + LUAD +      MUTATIONAL_BURDEN + avg_pct_poverty + avg_med_income + avg_pct_low_edu +      KRAS \n",
      "---------------------------------------------------- \n"
     ]
    },
    {
     "data": {
      "text/html": [
       "<table class=\"dataframe\">\n",
       "<caption>A data.frame: 1 × 7</caption>\n",
       "<thead>\n",
       "\t<tr><th scope=col>test</th><th scope=col>all_effect</th><th scope=col>all_pval</th><th scope=col>ns_effect</th><th scope=col>ns_pval</th><th scope=col>s_effect</th><th scope=col>s_pval</th></tr>\n",
       "\t<tr><th scope=col>&lt;glue&gt;</th><th scope=col>&lt;glue&gt;</th><th scope=col>&lt;chr&gt;</th><th scope=col>&lt;glue&gt;</th><th scope=col>&lt;chr&gt;</th><th scope=col>&lt;glue&gt;</th><th scope=col>&lt;chr&gt;</th></tr>\n",
       "</thead>\n",
       "<tbody>\n",
       "\t<tr><td>PM2.5 &gt; 9µg/m³ + COVAR_BASELINE + TMB + SES + KRAS</td><td>1.55 (1.14-2.11)</td><td>0.0055</td><td>1.63 (0.97-2.77)</td><td>0.065</td><td>1.54 (1.03-2.29)</td><td>0.033</td></tr>\n",
       "</tbody>\n",
       "</table>\n"
      ],
      "text/latex": [
       "A data.frame: 1 × 7\n",
       "\\begin{tabular}{lllllll}\n",
       " test & all\\_effect & all\\_pval & ns\\_effect & ns\\_pval & s\\_effect & s\\_pval\\\\\n",
       " <glue> & <glue> & <chr> & <glue> & <chr> & <glue> & <chr>\\\\\n",
       "\\hline\n",
       "\t PM2.5 > 9µg/m³ + COVAR\\_BASELINE + TMB + SES + KRAS & 1.55 (1.14-2.11) & 0.0055 & 1.63 (0.97-2.77) & 0.065 & 1.54 (1.03-2.29) & 0.033\\\\\n",
       "\\end{tabular}\n"
      ],
      "text/markdown": [
       "\n",
       "A data.frame: 1 × 7\n",
       "\n",
       "| test &lt;glue&gt; | all_effect &lt;glue&gt; | all_pval &lt;chr&gt; | ns_effect &lt;glue&gt; | ns_pval &lt;chr&gt; | s_effect &lt;glue&gt; | s_pval &lt;chr&gt; |\n",
       "|---|---|---|---|---|---|---|\n",
       "| PM2.5 &gt; 9µg/m³ + COVAR_BASELINE + TMB + SES + KRAS | 1.55 (1.14-2.11) | 0.0055 | 1.63 (0.97-2.77) | 0.065 | 1.54 (1.03-2.29) | 0.033 |\n",
       "\n"
      ],
      "text/plain": [
       "  test                                               all_effect       all_pval\n",
       "1 PM2.5 > 9µg/m³ + COVAR_BASELINE + TMB + SES + KRAS 1.55 (1.14-2.11) 0.0055  \n",
       "  ns_effect        ns_pval s_effect         s_pval\n",
       "1 1.63 (0.97-2.77) 0.065   1.54 (1.03-2.29) 0.033 "
      ]
     },
     "metadata": {},
     "output_type": "display_data"
    }
   ],
   "source": [
    "test <- glue('PM2.5 > 9µg/m³ + COVAR_BASELINE + TMB + SES + {SECONDARY_MUT}')\n",
    "formula <- as.formula(paste(OUTCOME, \"~\", paste0(c(COVAR_OF_INTEREST, COVAR_BASELINE, COVAR_TMB, COVAR_SES, SECONDARY_MUT), collapse = '+')))\n",
    "cat(test, ':\\n', deparse(formula), '\\n')\n",
    "cat('----------------------------------------------------', '\\n')\n",
    "rls_list <- run_tests(test, formula, reg_df)\n",
    "rls_list\n",
    "dft <- dft %>% add_row(data.frame(rls_list))"
   ]
  },
  {
   "cell_type": "markdown",
   "id": "658ff73e-050c-4111-8319-8035f2db5423",
   "metadata": {},
   "source": [
    "# 5 Linear PM2.5"
   ]
  },
  {
   "cell_type": "code",
   "execution_count": 12,
   "id": "e1e02863-cb4d-4ae4-b4cd-98541894aa7b",
   "metadata": {},
   "outputs": [],
   "source": [
    "COVAR_OF_INTEREST = 'PM25'"
   ]
  },
  {
   "cell_type": "markdown",
   "id": "831455c6-417f-4f5b-bf17-35cc917a4ab6",
   "metadata": {},
   "source": [
    "## 5.1 non-adjusted"
   ]
  },
  {
   "cell_type": "code",
   "execution_count": 13,
   "id": "9089da2a-637f-43b7-b782-df34bbacefdc",
   "metadata": {},
   "outputs": [
    {
     "name": "stdout",
     "output_type": "stream",
     "text": [
      "PM2.5 :\n",
      " EGFR ~ PM25 \n",
      "---------------------------------------------------- \n"
     ]
    },
    {
     "data": {
      "text/html": [
       "<table class=\"dataframe\">\n",
       "<caption>A data.frame: 1 × 7</caption>\n",
       "<thead>\n",
       "\t<tr><th scope=col>test</th><th scope=col>all_effect</th><th scope=col>all_pval</th><th scope=col>ns_effect</th><th scope=col>ns_pval</th><th scope=col>s_effect</th><th scope=col>s_pval</th></tr>\n",
       "\t<tr><th scope=col>&lt;chr&gt;</th><th scope=col>&lt;glue&gt;</th><th scope=col>&lt;chr&gt;</th><th scope=col>&lt;glue&gt;</th><th scope=col>&lt;chr&gt;</th><th scope=col>&lt;glue&gt;</th><th scope=col>&lt;chr&gt;</th></tr>\n",
       "</thead>\n",
       "<tbody>\n",
       "\t<tr><td>PM2.5</td><td>1.16 (1.07-1.27)</td><td>0.0006</td><td>1.2 (1.05-1.38)</td><td>0.0078</td><td>1.07 (0.95-1.2)</td><td>0.28</td></tr>\n",
       "</tbody>\n",
       "</table>\n"
      ],
      "text/latex": [
       "A data.frame: 1 × 7\n",
       "\\begin{tabular}{lllllll}\n",
       " test & all\\_effect & all\\_pval & ns\\_effect & ns\\_pval & s\\_effect & s\\_pval\\\\\n",
       " <chr> & <glue> & <chr> & <glue> & <chr> & <glue> & <chr>\\\\\n",
       "\\hline\n",
       "\t PM2.5 & 1.16 (1.07-1.27) & 0.0006 & 1.2 (1.05-1.38) & 0.0078 & 1.07 (0.95-1.2) & 0.28\\\\\n",
       "\\end{tabular}\n"
      ],
      "text/markdown": [
       "\n",
       "A data.frame: 1 × 7\n",
       "\n",
       "| test &lt;chr&gt; | all_effect &lt;glue&gt; | all_pval &lt;chr&gt; | ns_effect &lt;glue&gt; | ns_pval &lt;chr&gt; | s_effect &lt;glue&gt; | s_pval &lt;chr&gt; |\n",
       "|---|---|---|---|---|---|---|\n",
       "| PM2.5 | 1.16 (1.07-1.27) | 0.0006 | 1.2 (1.05-1.38) | 0.0078 | 1.07 (0.95-1.2) | 0.28 |\n",
       "\n"
      ],
      "text/plain": [
       "  test  all_effect       all_pval ns_effect       ns_pval s_effect       \n",
       "1 PM2.5 1.16 (1.07-1.27) 0.0006   1.2 (1.05-1.38) 0.0078  1.07 (0.95-1.2)\n",
       "  s_pval\n",
       "1 0.28  "
      ]
     },
     "metadata": {},
     "output_type": "display_data"
    }
   ],
   "source": [
    "test <- 'PM2.5'\n",
    "formula <- as.formula(paste(OUTCOME, \"~\", paste0(c(COVAR_OF_INTEREST), collapse = '+')))\n",
    "cat(test, ':\\n', deparse(formula), '\\n')\n",
    "cat('----------------------------------------------------', '\\n')\n",
    "rls_list <- run_tests(test, formula, reg_df)\n",
    "rls_list\n",
    "dft <- dft %>% add_row(data.frame(rls_list))"
   ]
  },
  {
   "cell_type": "markdown",
   "id": "1f75ce33-15a3-4aaa-be52-94bf353e3cd9",
   "metadata": {},
   "source": [
    "## 5.2 adjusted: COVAR_BASELINE "
   ]
  },
  {
   "cell_type": "code",
   "execution_count": 14,
   "id": "21b415f8-c851-42e6-883f-774deffe181d",
   "metadata": {},
   "outputs": [
    {
     "name": "stdout",
     "output_type": "stream",
     "text": [
      "PM2.5 + COVAR_BASELINE :\n",
      " EGFR ~ PM25 + AGE + GENDER_NM + PANEL_VERSION + STAGE + YEAR_TEST +      SMOKE + PC1 + PC2 + PC3 + PC4 + PC5 + LUAD \n",
      "---------------------------------------------------- \n"
     ]
    },
    {
     "data": {
      "text/html": [
       "<table class=\"dataframe\">\n",
       "<caption>A data.frame: 1 × 7</caption>\n",
       "<thead>\n",
       "\t<tr><th scope=col>test</th><th scope=col>all_effect</th><th scope=col>all_pval</th><th scope=col>ns_effect</th><th scope=col>ns_pval</th><th scope=col>s_effect</th><th scope=col>s_pval</th></tr>\n",
       "\t<tr><th scope=col>&lt;chr&gt;</th><th scope=col>&lt;glue&gt;</th><th scope=col>&lt;chr&gt;</th><th scope=col>&lt;glue&gt;</th><th scope=col>&lt;chr&gt;</th><th scope=col>&lt;glue&gt;</th><th scope=col>&lt;chr&gt;</th></tr>\n",
       "</thead>\n",
       "<tbody>\n",
       "\t<tr><td>PM2.5 + COVAR_BASELINE</td><td>1.11 (1.02-1.22)</td><td>0.021</td><td>1.19 (1.03-1.38)</td><td>0.017</td><td>1.06 (0.94-1.21)</td><td>0.31</td></tr>\n",
       "</tbody>\n",
       "</table>\n"
      ],
      "text/latex": [
       "A data.frame: 1 × 7\n",
       "\\begin{tabular}{lllllll}\n",
       " test & all\\_effect & all\\_pval & ns\\_effect & ns\\_pval & s\\_effect & s\\_pval\\\\\n",
       " <chr> & <glue> & <chr> & <glue> & <chr> & <glue> & <chr>\\\\\n",
       "\\hline\n",
       "\t PM2.5 + COVAR\\_BASELINE & 1.11 (1.02-1.22) & 0.021 & 1.19 (1.03-1.38) & 0.017 & 1.06 (0.94-1.21) & 0.31\\\\\n",
       "\\end{tabular}\n"
      ],
      "text/markdown": [
       "\n",
       "A data.frame: 1 × 7\n",
       "\n",
       "| test &lt;chr&gt; | all_effect &lt;glue&gt; | all_pval &lt;chr&gt; | ns_effect &lt;glue&gt; | ns_pval &lt;chr&gt; | s_effect &lt;glue&gt; | s_pval &lt;chr&gt; |\n",
       "|---|---|---|---|---|---|---|\n",
       "| PM2.5 + COVAR_BASELINE | 1.11 (1.02-1.22) | 0.021 | 1.19 (1.03-1.38) | 0.017 | 1.06 (0.94-1.21) | 0.31 |\n",
       "\n"
      ],
      "text/plain": [
       "  test                   all_effect       all_pval ns_effect        ns_pval\n",
       "1 PM2.5 + COVAR_BASELINE 1.11 (1.02-1.22) 0.021    1.19 (1.03-1.38) 0.017  \n",
       "  s_effect         s_pval\n",
       "1 1.06 (0.94-1.21) 0.31  "
      ]
     },
     "metadata": {},
     "output_type": "display_data"
    }
   ],
   "source": [
    "test <- 'PM2.5 + COVAR_BASELINE'\n",
    "formula <- as.formula(paste(OUTCOME, \"~\", paste0(c(COVAR_OF_INTEREST, COVAR_BASELINE), collapse = '+')))\n",
    "cat(test, ':\\n', deparse(formula), '\\n')\n",
    "cat('----------------------------------------------------', '\\n')\n",
    "rls_list <- run_tests(test, formula, reg_df)\n",
    "rls_list\n",
    "dft <- dft %>% add_row(data.frame(rls_list))"
   ]
  },
  {
   "cell_type": "markdown",
   "id": "b55b575e-1931-4b21-babd-ae29c06a7d66",
   "metadata": {},
   "source": [
    "## 5.3 adjusted: COVAR_BASELINE + TMB"
   ]
  },
  {
   "cell_type": "code",
   "execution_count": 15,
   "id": "042694f0-d1ad-4cb6-b229-90709006c55c",
   "metadata": {},
   "outputs": [
    {
     "name": "stdout",
     "output_type": "stream",
     "text": [
      "PM2.5 + COVAR_BASELINE + TMB :\n",
      " EGFR ~ PM25 + AGE + GENDER_NM + PANEL_VERSION + STAGE + YEAR_TEST +      SMOKE + PC1 + PC2 + PC3 + PC4 + PC5 + LUAD + MUTATIONAL_BURDEN \n",
      "---------------------------------------------------- \n"
     ]
    },
    {
     "data": {
      "text/html": [
       "<table class=\"dataframe\">\n",
       "<caption>A data.frame: 1 × 7</caption>\n",
       "<thead>\n",
       "\t<tr><th scope=col>test</th><th scope=col>all_effect</th><th scope=col>all_pval</th><th scope=col>ns_effect</th><th scope=col>ns_pval</th><th scope=col>s_effect</th><th scope=col>s_pval</th></tr>\n",
       "\t<tr><th scope=col>&lt;chr&gt;</th><th scope=col>&lt;glue&gt;</th><th scope=col>&lt;chr&gt;</th><th scope=col>&lt;glue&gt;</th><th scope=col>&lt;chr&gt;</th><th scope=col>&lt;glue&gt;</th><th scope=col>&lt;chr&gt;</th></tr>\n",
       "</thead>\n",
       "<tbody>\n",
       "\t<tr><td>PM2.5 + COVAR_BASELINE + TMB</td><td>1.1 (1-1.21)</td><td>0.043</td><td>1.21 (1.04-1.4)</td><td>0.012</td><td>1.05 (0.93-1.19)</td><td>0.46</td></tr>\n",
       "</tbody>\n",
       "</table>\n"
      ],
      "text/latex": [
       "A data.frame: 1 × 7\n",
       "\\begin{tabular}{lllllll}\n",
       " test & all\\_effect & all\\_pval & ns\\_effect & ns\\_pval & s\\_effect & s\\_pval\\\\\n",
       " <chr> & <glue> & <chr> & <glue> & <chr> & <glue> & <chr>\\\\\n",
       "\\hline\n",
       "\t PM2.5 + COVAR\\_BASELINE + TMB & 1.1 (1-1.21) & 0.043 & 1.21 (1.04-1.4) & 0.012 & 1.05 (0.93-1.19) & 0.46\\\\\n",
       "\\end{tabular}\n"
      ],
      "text/markdown": [
       "\n",
       "A data.frame: 1 × 7\n",
       "\n",
       "| test &lt;chr&gt; | all_effect &lt;glue&gt; | all_pval &lt;chr&gt; | ns_effect &lt;glue&gt; | ns_pval &lt;chr&gt; | s_effect &lt;glue&gt; | s_pval &lt;chr&gt; |\n",
       "|---|---|---|---|---|---|---|\n",
       "| PM2.5 + COVAR_BASELINE + TMB | 1.1 (1-1.21) | 0.043 | 1.21 (1.04-1.4) | 0.012 | 1.05 (0.93-1.19) | 0.46 |\n",
       "\n"
      ],
      "text/plain": [
       "  test                         all_effect   all_pval ns_effect       ns_pval\n",
       "1 PM2.5 + COVAR_BASELINE + TMB 1.1 (1-1.21) 0.043    1.21 (1.04-1.4) 0.012  \n",
       "  s_effect         s_pval\n",
       "1 1.05 (0.93-1.19) 0.46  "
      ]
     },
     "metadata": {},
     "output_type": "display_data"
    }
   ],
   "source": [
    "test <- 'PM2.5 + COVAR_BASELINE + TMB'\n",
    "formula <- as.formula(paste(OUTCOME, \"~\", paste0(c(COVAR_OF_INTEREST, COVAR_BASELINE, COVAR_TMB), collapse = '+')))\n",
    "cat(test, ':\\n', deparse(formula), '\\n')\n",
    "cat('----------------------------------------------------', '\\n')\n",
    "rls_list <- run_tests(test, formula, reg_df)\n",
    "rls_list\n",
    "dft <- dft %>% add_row(data.frame(rls_list))"
   ]
  },
  {
   "cell_type": "markdown",
   "id": "5d5bf7b6-9d9d-48f0-ac05-29be7a4c24f0",
   "metadata": {},
   "source": [
    "## 5.4 adjusted: COVAR_BASELINE + TMB + SES"
   ]
  },
  {
   "cell_type": "code",
   "execution_count": 16,
   "id": "1fcf25f5-2d4f-4bea-8972-00b61961abda",
   "metadata": {},
   "outputs": [
    {
     "name": "stdout",
     "output_type": "stream",
     "text": [
      "PM2.5 + COVAR_BASELINE + TMB + SES :\n",
      " EGFR ~ PM25 + AGE + GENDER_NM + PANEL_VERSION + STAGE + YEAR_TEST +      SMOKE + PC1 + PC2 + PC3 + PC4 + PC5 + LUAD + MUTATIONAL_BURDEN +      avg_pct_poverty + avg_med_income + avg_pct_low_edu \n",
      "---------------------------------------------------- \n"
     ]
    },
    {
     "data": {
      "text/html": [
       "<table class=\"dataframe\">\n",
       "<caption>A data.frame: 1 × 7</caption>\n",
       "<thead>\n",
       "\t<tr><th scope=col>test</th><th scope=col>all_effect</th><th scope=col>all_pval</th><th scope=col>ns_effect</th><th scope=col>ns_pval</th><th scope=col>s_effect</th><th scope=col>s_pval</th></tr>\n",
       "\t<tr><th scope=col>&lt;chr&gt;</th><th scope=col>&lt;glue&gt;</th><th scope=col>&lt;chr&gt;</th><th scope=col>&lt;glue&gt;</th><th scope=col>&lt;chr&gt;</th><th scope=col>&lt;glue&gt;</th><th scope=col>&lt;chr&gt;</th></tr>\n",
       "</thead>\n",
       "<tbody>\n",
       "\t<tr><td>PM2.5 + COVAR_BASELINE + TMB + SES</td><td>1.1 (1-1.22)</td><td>0.058</td><td>1.19 (1.02-1.39)</td><td>0.029</td><td>1.06 (0.93-1.21)</td><td>0.39</td></tr>\n",
       "</tbody>\n",
       "</table>\n"
      ],
      "text/latex": [
       "A data.frame: 1 × 7\n",
       "\\begin{tabular}{lllllll}\n",
       " test & all\\_effect & all\\_pval & ns\\_effect & ns\\_pval & s\\_effect & s\\_pval\\\\\n",
       " <chr> & <glue> & <chr> & <glue> & <chr> & <glue> & <chr>\\\\\n",
       "\\hline\n",
       "\t PM2.5 + COVAR\\_BASELINE + TMB + SES & 1.1 (1-1.22) & 0.058 & 1.19 (1.02-1.39) & 0.029 & 1.06 (0.93-1.21) & 0.39\\\\\n",
       "\\end{tabular}\n"
      ],
      "text/markdown": [
       "\n",
       "A data.frame: 1 × 7\n",
       "\n",
       "| test &lt;chr&gt; | all_effect &lt;glue&gt; | all_pval &lt;chr&gt; | ns_effect &lt;glue&gt; | ns_pval &lt;chr&gt; | s_effect &lt;glue&gt; | s_pval &lt;chr&gt; |\n",
       "|---|---|---|---|---|---|---|\n",
       "| PM2.5 + COVAR_BASELINE + TMB + SES | 1.1 (1-1.22) | 0.058 | 1.19 (1.02-1.39) | 0.029 | 1.06 (0.93-1.21) | 0.39 |\n",
       "\n"
      ],
      "text/plain": [
       "  test                               all_effect   all_pval ns_effect       \n",
       "1 PM2.5 + COVAR_BASELINE + TMB + SES 1.1 (1-1.22) 0.058    1.19 (1.02-1.39)\n",
       "  ns_pval s_effect         s_pval\n",
       "1 0.029   1.06 (0.93-1.21) 0.39  "
      ]
     },
     "metadata": {},
     "output_type": "display_data"
    }
   ],
   "source": [
    "test <- 'PM2.5 + COVAR_BASELINE + TMB + SES'\n",
    "formula <- as.formula(paste(OUTCOME, \"~\", paste0(c(COVAR_OF_INTEREST, COVAR_BASELINE, COVAR_TMB, COVAR_SES), collapse = '+')))\n",
    "cat(test, ':\\n', deparse(formula), '\\n')\n",
    "cat('----------------------------------------------------', '\\n')\n",
    "rls_list <- run_tests(test, formula, reg_df)\n",
    "rls_list\n",
    "dft <- dft %>% add_row(data.frame(rls_list))"
   ]
  },
  {
   "cell_type": "markdown",
   "id": "0d537094-f79a-438f-84f0-f710c5a1a6f6",
   "metadata": {},
   "source": [
    "## 5.5 adjusted: COVAR_BASELINE + TMB + SES + SECONDARY_COVAR"
   ]
  },
  {
   "cell_type": "code",
   "execution_count": 17,
   "id": "8283bdc9-47a8-4d9f-922d-93f2f1c4b1dc",
   "metadata": {},
   "outputs": [
    {
     "name": "stdout",
     "output_type": "stream",
     "text": [
      "PM2.5 + KRAS + COVAR_BASELINE + TMB + SES :\n",
      " EGFR ~ PM25 + AGE + GENDER_NM + PANEL_VERSION + STAGE + YEAR_TEST +      SMOKE + PC1 + PC2 + PC3 + PC4 + PC5 + LUAD + MUTATIONAL_BURDEN +      avg_pct_poverty + avg_med_income + avg_pct_low_edu + KRAS \n",
      "---------------------------------------------------- \n"
     ]
    },
    {
     "data": {
      "text/html": [
       "<table class=\"dataframe\">\n",
       "<caption>A data.frame: 1 × 7</caption>\n",
       "<thead>\n",
       "\t<tr><th scope=col>test</th><th scope=col>all_effect</th><th scope=col>all_pval</th><th scope=col>ns_effect</th><th scope=col>ns_pval</th><th scope=col>s_effect</th><th scope=col>s_pval</th></tr>\n",
       "\t<tr><th scope=col>&lt;chr&gt;</th><th scope=col>&lt;glue&gt;</th><th scope=col>&lt;chr&gt;</th><th scope=col>&lt;glue&gt;</th><th scope=col>&lt;chr&gt;</th><th scope=col>&lt;glue&gt;</th><th scope=col>&lt;chr&gt;</th></tr>\n",
       "</thead>\n",
       "<tbody>\n",
       "\t<tr><td>PM2.5 + KRAS + COVAR_BASELINE + TMB + SES</td><td>1.09 (0.98-1.21)</td><td>0.11</td><td>1.15 (0.98-1.36)</td><td>0.09</td><td>1.08 (0.94-1.24)</td><td>0.3</td></tr>\n",
       "</tbody>\n",
       "</table>\n"
      ],
      "text/latex": [
       "A data.frame: 1 × 7\n",
       "\\begin{tabular}{lllllll}\n",
       " test & all\\_effect & all\\_pval & ns\\_effect & ns\\_pval & s\\_effect & s\\_pval\\\\\n",
       " <chr> & <glue> & <chr> & <glue> & <chr> & <glue> & <chr>\\\\\n",
       "\\hline\n",
       "\t PM2.5 + KRAS + COVAR\\_BASELINE + TMB + SES & 1.09 (0.98-1.21) & 0.11 & 1.15 (0.98-1.36) & 0.09 & 1.08 (0.94-1.24) & 0.3\\\\\n",
       "\\end{tabular}\n"
      ],
      "text/markdown": [
       "\n",
       "A data.frame: 1 × 7\n",
       "\n",
       "| test &lt;chr&gt; | all_effect &lt;glue&gt; | all_pval &lt;chr&gt; | ns_effect &lt;glue&gt; | ns_pval &lt;chr&gt; | s_effect &lt;glue&gt; | s_pval &lt;chr&gt; |\n",
       "|---|---|---|---|---|---|---|\n",
       "| PM2.5 + KRAS + COVAR_BASELINE + TMB + SES | 1.09 (0.98-1.21) | 0.11 | 1.15 (0.98-1.36) | 0.09 | 1.08 (0.94-1.24) | 0.3 |\n",
       "\n"
      ],
      "text/plain": [
       "  test                                      all_effect       all_pval\n",
       "1 PM2.5 + KRAS + COVAR_BASELINE + TMB + SES 1.09 (0.98-1.21) 0.11    \n",
       "  ns_effect        ns_pval s_effect         s_pval\n",
       "1 1.15 (0.98-1.36) 0.09    1.08 (0.94-1.24) 0.3   "
      ]
     },
     "metadata": {},
     "output_type": "display_data"
    }
   ],
   "source": [
    "test <- 'PM2.5 + KRAS + COVAR_BASELINE + TMB + SES'\n",
    "formula <- as.formula(paste(OUTCOME, \"~\", paste0(c(COVAR_OF_INTEREST, COVAR_BASELINE, COVAR_TMB, COVAR_SES, SECONDARY_MUT), collapse = '+')))\n",
    "cat(test, ':\\n', deparse(formula), '\\n')\n",
    "cat('----------------------------------------------------', '\\n')\n",
    "rls_list <- run_tests(test, formula, reg_df)\n",
    "rls_list\n",
    "dft <- dft %>% add_row(data.frame(rls_list))"
   ]
  },
  {
   "cell_type": "markdown",
   "id": "c2b25b82-cf1b-4b4e-ae10-4e07c221f752",
   "metadata": {},
   "source": [
    "# summary"
   ]
  },
  {
   "cell_type": "code",
   "execution_count": 18,
   "id": "639a5053-3bb4-4140-9a40-d4ae2fcba3e7",
   "metadata": {},
   "outputs": [
    {
     "data": {
      "text/html": [
       "<table class=\"dataframe\">\n",
       "<caption>A tibble: 10 × 7</caption>\n",
       "<thead>\n",
       "\t<tr><th scope=col>test</th><th scope=col>all_effect N = 2312</th><th scope=col>all_pval</th><th scope=col>non_smoker_effect N = 435</th><th scope=col>non_smoker_pval</th><th scope=col>smoker_effect N = 1877</th><th scope=col>smoker_pval</th></tr>\n",
       "\t<tr><th scope=col>&lt;glue&gt;</th><th scope=col>&lt;glue&gt;</th><th scope=col>&lt;chr&gt;</th><th scope=col>&lt;glue&gt;</th><th scope=col>&lt;chr&gt;</th><th scope=col>&lt;glue&gt;</th><th scope=col>&lt;chr&gt;</th></tr>\n",
       "</thead>\n",
       "<tbody>\n",
       "\t<tr><td><span style=white-space:pre-wrap>PM2.5 &gt; 9µg/m³                                    </span></td><td>1.79 (1.41-2.25)</td><td><span style=white-space:pre-wrap>  0   </span></td><td>1.74 (1.15-2.64)</td><td>0.0085</td><td>1.57 (1.15-2.12)</td><td>0.0043</td></tr>\n",
       "\t<tr><td><span style=white-space:pre-wrap>PM2.5 &gt; 9µg/m³ + COVAR_BASELINE                   </span></td><td>1.69 (1.3-2.19) </td><td>0.0001</td><td>1.74 (1.12-2.72)</td><td>0.014 </td><td>1.69 (1.22-2.33)</td><td>0.0014</td></tr>\n",
       "\t<tr><td><span style=white-space:pre-wrap>PM2.5 &gt; 9µg/m³ + COVAR_BASELINE + TMB             </span></td><td>1.62 (1.24-2.1) </td><td>0.0003</td><td>1.74 (1.12-2.73)</td><td>0.014 </td><td>1.57 (1.12-2.18)</td><td>0.0081</td></tr>\n",
       "\t<tr><td><span style=white-space:pre-wrap>PM2.5 &gt; 9µg/m³ + COVAR_BASELINE + TMB + SES       </span></td><td>1.66 (1.25-2.2) </td><td>0.0005</td><td>1.69 (1.04-2.73)</td><td>0.033 </td><td>1.66 (1.15-2.37)</td><td>0.006 </td></tr>\n",
       "\t<tr><td>PM2.5 &gt; 9µg/m³ + COVAR_BASELINE + TMB + SES + KRAS</td><td>1.55 (1.14-2.11)</td><td>0.0055</td><td>1.63 (0.97-2.77)</td><td>0.065 </td><td>1.54 (1.03-2.29)</td><td>0.033 </td></tr>\n",
       "\t<tr><td>PM2.5                                             </td><td>1.16 (1.07-1.27)</td><td>0.0006</td><td>1.2 (1.05-1.38) </td><td>0.0078</td><td>1.07 (0.95-1.2) </td><td>0.28  </td></tr>\n",
       "\t<tr><td>PM2.5 + COVAR_BASELINE                            </td><td>1.11 (1.02-1.22)</td><td>0.021 </td><td>1.19 (1.03-1.38)</td><td>0.017 </td><td>1.06 (0.94-1.21)</td><td>0.31  </td></tr>\n",
       "\t<tr><td>PM2.5 + COVAR_BASELINE + TMB                      </td><td>1.1 (1-1.21)    </td><td>0.043 </td><td>1.21 (1.04-1.4) </td><td>0.012 </td><td>1.05 (0.93-1.19)</td><td>0.46  </td></tr>\n",
       "\t<tr><td>PM2.5 + COVAR_BASELINE + TMB + SES                </td><td>1.1 (1-1.22)    </td><td>0.058 </td><td>1.19 (1.02-1.39)</td><td>0.029 </td><td>1.06 (0.93-1.21)</td><td>0.39  </td></tr>\n",
       "\t<tr><td>PM2.5 + KRAS + COVAR_BASELINE + TMB + SES         </td><td>1.09 (0.98-1.21)</td><td>0.11  </td><td>1.15 (0.98-1.36)</td><td>0.09  </td><td>1.08 (0.94-1.24)</td><td>0.3   </td></tr>\n",
       "</tbody>\n",
       "</table>\n"
      ],
      "text/latex": [
       "A tibble: 10 × 7\n",
       "\\begin{tabular}{lllllll}\n",
       " test & all\\_effect N = 2312 & all\\_pval & non\\_smoker\\_effect N = 435 & non\\_smoker\\_pval & smoker\\_effect N = 1877 & smoker\\_pval\\\\\n",
       " <glue> & <glue> & <chr> & <glue> & <chr> & <glue> & <chr>\\\\\n",
       "\\hline\n",
       "\t PM2.5 > 9µg/m³                                     & 1.79 (1.41-2.25) &   0    & 1.74 (1.15-2.64) & 0.0085 & 1.57 (1.15-2.12) & 0.0043\\\\\n",
       "\t PM2.5 > 9µg/m³ + COVAR\\_BASELINE                    & 1.69 (1.3-2.19)  & 0.0001 & 1.74 (1.12-2.72) & 0.014  & 1.69 (1.22-2.33) & 0.0014\\\\\n",
       "\t PM2.5 > 9µg/m³ + COVAR\\_BASELINE + TMB              & 1.62 (1.24-2.1)  & 0.0003 & 1.74 (1.12-2.73) & 0.014  & 1.57 (1.12-2.18) & 0.0081\\\\\n",
       "\t PM2.5 > 9µg/m³ + COVAR\\_BASELINE + TMB + SES        & 1.66 (1.25-2.2)  & 0.0005 & 1.69 (1.04-2.73) & 0.033  & 1.66 (1.15-2.37) & 0.006 \\\\\n",
       "\t PM2.5 > 9µg/m³ + COVAR\\_BASELINE + TMB + SES + KRAS & 1.55 (1.14-2.11) & 0.0055 & 1.63 (0.97-2.77) & 0.065  & 1.54 (1.03-2.29) & 0.033 \\\\\n",
       "\t PM2.5                                              & 1.16 (1.07-1.27) & 0.0006 & 1.2 (1.05-1.38)  & 0.0078 & 1.07 (0.95-1.2)  & 0.28  \\\\\n",
       "\t PM2.5 + COVAR\\_BASELINE                             & 1.11 (1.02-1.22) & 0.021  & 1.19 (1.03-1.38) & 0.017  & 1.06 (0.94-1.21) & 0.31  \\\\\n",
       "\t PM2.5 + COVAR\\_BASELINE + TMB                       & 1.1 (1-1.21)     & 0.043  & 1.21 (1.04-1.4)  & 0.012  & 1.05 (0.93-1.19) & 0.46  \\\\\n",
       "\t PM2.5 + COVAR\\_BASELINE + TMB + SES                 & 1.1 (1-1.22)     & 0.058  & 1.19 (1.02-1.39) & 0.029  & 1.06 (0.93-1.21) & 0.39  \\\\\n",
       "\t PM2.5 + KRAS + COVAR\\_BASELINE + TMB + SES          & 1.09 (0.98-1.21) & 0.11   & 1.15 (0.98-1.36) & 0.09   & 1.08 (0.94-1.24) & 0.3   \\\\\n",
       "\\end{tabular}\n"
      ],
      "text/markdown": [
       "\n",
       "A tibble: 10 × 7\n",
       "\n",
       "| test &lt;glue&gt; | all_effect N = 2312 &lt;glue&gt; | all_pval &lt;chr&gt; | non_smoker_effect N = 435 &lt;glue&gt; | non_smoker_pval &lt;chr&gt; | smoker_effect N = 1877 &lt;glue&gt; | smoker_pval &lt;chr&gt; |\n",
       "|---|---|---|---|---|---|---|\n",
       "| PM2.5 &gt; 9µg/m³                                     | 1.79 (1.41-2.25) |   0    | 1.74 (1.15-2.64) | 0.0085 | 1.57 (1.15-2.12) | 0.0043 |\n",
       "| PM2.5 &gt; 9µg/m³ + COVAR_BASELINE                    | 1.69 (1.3-2.19)  | 0.0001 | 1.74 (1.12-2.72) | 0.014  | 1.69 (1.22-2.33) | 0.0014 |\n",
       "| PM2.5 &gt; 9µg/m³ + COVAR_BASELINE + TMB              | 1.62 (1.24-2.1)  | 0.0003 | 1.74 (1.12-2.73) | 0.014  | 1.57 (1.12-2.18) | 0.0081 |\n",
       "| PM2.5 &gt; 9µg/m³ + COVAR_BASELINE + TMB + SES        | 1.66 (1.25-2.2)  | 0.0005 | 1.69 (1.04-2.73) | 0.033  | 1.66 (1.15-2.37) | 0.006  |\n",
       "| PM2.5 &gt; 9µg/m³ + COVAR_BASELINE + TMB + SES + KRAS | 1.55 (1.14-2.11) | 0.0055 | 1.63 (0.97-2.77) | 0.065  | 1.54 (1.03-2.29) | 0.033  |\n",
       "| PM2.5                                              | 1.16 (1.07-1.27) | 0.0006 | 1.2 (1.05-1.38)  | 0.0078 | 1.07 (0.95-1.2)  | 0.28   |\n",
       "| PM2.5 + COVAR_BASELINE                             | 1.11 (1.02-1.22) | 0.021  | 1.19 (1.03-1.38) | 0.017  | 1.06 (0.94-1.21) | 0.31   |\n",
       "| PM2.5 + COVAR_BASELINE + TMB                       | 1.1 (1-1.21)     | 0.043  | 1.21 (1.04-1.4)  | 0.012  | 1.05 (0.93-1.19) | 0.46   |\n",
       "| PM2.5 + COVAR_BASELINE + TMB + SES                 | 1.1 (1-1.22)     | 0.058  | 1.19 (1.02-1.39) | 0.029  | 1.06 (0.93-1.21) | 0.39   |\n",
       "| PM2.5 + KRAS + COVAR_BASELINE + TMB + SES          | 1.09 (0.98-1.21) | 0.11   | 1.15 (0.98-1.36) | 0.09   | 1.08 (0.94-1.24) | 0.3    |\n",
       "\n"
      ],
      "text/plain": [
       "   test                                               all_effect N = 2312\n",
       "1  PM2.5 > 9µg/m³                                     1.79 (1.41-2.25)   \n",
       "2  PM2.5 > 9µg/m³ + COVAR_BASELINE                    1.69 (1.3-2.19)    \n",
       "3  PM2.5 > 9µg/m³ + COVAR_BASELINE + TMB              1.62 (1.24-2.1)    \n",
       "4  PM2.5 > 9µg/m³ + COVAR_BASELINE + TMB + SES        1.66 (1.25-2.2)    \n",
       "5  PM2.5 > 9µg/m³ + COVAR_BASELINE + TMB + SES + KRAS 1.55 (1.14-2.11)   \n",
       "6  PM2.5                                              1.16 (1.07-1.27)   \n",
       "7  PM2.5 + COVAR_BASELINE                             1.11 (1.02-1.22)   \n",
       "8  PM2.5 + COVAR_BASELINE + TMB                       1.1 (1-1.21)       \n",
       "9  PM2.5 + COVAR_BASELINE + TMB + SES                 1.1 (1-1.22)       \n",
       "10 PM2.5 + KRAS + COVAR_BASELINE + TMB + SES          1.09 (0.98-1.21)   \n",
       "   all_pval non_smoker_effect N = 435 non_smoker_pval smoker_effect N = 1877\n",
       "1    0      1.74 (1.15-2.64)          0.0085          1.57 (1.15-2.12)      \n",
       "2  0.0001   1.74 (1.12-2.72)          0.014           1.69 (1.22-2.33)      \n",
       "3  0.0003   1.74 (1.12-2.73)          0.014           1.57 (1.12-2.18)      \n",
       "4  0.0005   1.69 (1.04-2.73)          0.033           1.66 (1.15-2.37)      \n",
       "5  0.0055   1.63 (0.97-2.77)          0.065           1.54 (1.03-2.29)      \n",
       "6  0.0006   1.2 (1.05-1.38)           0.0078          1.07 (0.95-1.2)       \n",
       "7  0.021    1.19 (1.03-1.38)          0.017           1.06 (0.94-1.21)      \n",
       "8  0.043    1.21 (1.04-1.4)           0.012           1.05 (0.93-1.19)      \n",
       "9  0.058    1.19 (1.02-1.39)          0.029           1.06 (0.93-1.21)      \n",
       "10 0.11     1.15 (0.98-1.36)          0.09            1.08 (0.94-1.24)      \n",
       "   smoker_pval\n",
       "1  0.0043     \n",
       "2  0.0014     \n",
       "3  0.0081     \n",
       "4  0.006      \n",
       "5  0.033      \n",
       "6  0.28       \n",
       "7  0.31       \n",
       "8  0.46       \n",
       "9  0.39       \n",
       "10 0.3        "
      ]
     },
     "metadata": {},
     "output_type": "display_data"
    }
   ],
   "source": [
    "smry <- dft\n",
    "colnames(smry) <- c(\n",
    "    'test',\n",
    "    glue('all_effect N = {n_all}'),\n",
    "    'all_pval',\n",
    "    glue('non_smoker_effect N = {n_non_smoker}'),\n",
    "    'non_smoker_pval'\n",
    "    ,\n",
    "    glue('smoker_effect N = {n_smoker}'),\n",
    "    'smoker_pval'\n",
    ")\n",
    "smry"
   ]
  },
  {
   "cell_type": "code",
   "execution_count": 19,
   "id": "a09f294e-788e-4d02-9983-cb6726e78797",
   "metadata": {},
   "outputs": [],
   "source": [
    "file_name <- glue('result/glm_{OUTCOME}_association')\n",
    "\n",
    "saveRDS(smry, paste0(file_name, \".rds\"))\n",
    "write_tsv(smry, paste0(file_name, \".tsv\"))"
   ]
  },
  {
   "cell_type": "markdown",
   "id": "17f7b866-87ec-4510-adad-d180e5a75382",
   "metadata": {},
   "source": [
    "# 6. Tree plot for default model "
   ]
  },
  {
   "cell_type": "code",
   "execution_count": 20,
   "id": "73cf29a7-fa9b-4684-9cce-8f6c2380e887",
   "metadata": {},
   "outputs": [
    {
     "data": {
      "image/png": "[encoded data removed]",
      "text/plain": [
       "plot without title"
      ]
     },
     "metadata": {
      "image/png": {
       "height": 420,
       "width": 420
      }
     },
     "output_type": "display_data"
    }
   ],
   "source": [
    "library(broom)\n",
    "library(dplyr)\n",
    "library(ggplot2)\n",
    "\n",
    "# fit model \n",
    "COVAR_OF_INTEREST <- 'PM25_cat9'\n",
    "formula <- as.formula(paste(OUTCOME, \"~\", paste0(c(COVAR_OF_INTEREST, COVAR_BASELINE, COVAR_TMB, COVAR_SES), collapse = '+')))\n",
    "model <- glm(formula, data = df, family = binomial())\n",
    "\n",
    "\n",
    "# Custom labels (same as before)\n",
    "to_select <- c(\n",
    "  'PM25_cat9'         = 'PM2.5 exposure: high\\nRef: low',\n",
    "  'GENDER_NMFEMALE'   = 'Gender: female\\nRef: male',\n",
    "  'AGE'               = 'Age',\n",
    "  'SMOKE3TRUE'        = 'Smoking: Former/Current smokers\\nRef: Never smokers',\n",
    "    'pkys' = 'Smoking pack-years',\n",
    "  'LUADTRUE'          = 'Histology: LUAD\\nRef: others',\n",
    "  'STAGETRUE'         = 'Stage: IV\\nRef: <IV',\n",
    "  'MUTATIONAL_BURDEN' = 'Mutational Burden',\n",
    "  'YEAR_TEST'         = 'Year of sequencing',\n",
    "  'avg_pct_poverty'   = 'Avg. % Poverty',\n",
    "  'avg_med_income'    = 'Avg. Median Income',\n",
    "  'avg_pct_low_edu'   = 'Avg. % Low Education',\n",
    "  'PC1'               = 'PC1',\n",
    "  'PC2'               = 'PC2',\n",
    "  'PC3'               = 'PC3',\n",
    "  'PC4'               = 'PC4',\n",
    "  'PC5'               = 'PC5',\n",
    "  'PANEL_VERSION2'    = 'Panel version: 2.0\\nRef: 1.0',\n",
    "  'PANEL_VERSION3'    = 'Panel version: 3.0\\nRef: 1.0',\n",
    "  'PANEL_VERSION3.1'  = 'Panel version: 3.1\\nRef: 1.0'\n",
    ")\n",
    "\n",
    "# Tidy model and relabel\n",
    "plot_df <- tidy(model, conf.int = TRUE) %>%\n",
    "  filter(term %in% names(to_select)) %>%\n",
    "  mutate(\n",
    "    OR        = exp(estimate),\n",
    "    OR_low    = exp(conf.low),\n",
    "    OR_high   = exp(conf.high),\n",
    "    label     = to_select[term],\n",
    "    label     = factor(label, levels = rev(to_select))\n",
    "  )\n",
    "\n",
    "options(repr.plot.height = 7, repr.plot.width = 7)\n",
    "# Plot OR on log scale\n",
    "ggplot(plot_df, aes(x = OR, y = label)) +\n",
    "  geom_point(aes(color = p.value < 0.05), size = 3) +\n",
    "  geom_errorbarh(aes(xmin = OR_low, xmax = OR_high), height = 0.2) +\n",
    "  geom_vline(xintercept = 1, linetype = \"dashed\") +\n",
    "  geom_text(aes(label = sprintf(\"OR = %.2f, p = %.1e\", OR, p.value)),\n",
    "            vjust = -0.8, size = 3) +\n",
    "  scale_x_log10() +\n",
    "  scale_color_manual(values = c(\"TRUE\" = \"red\", \"FALSE\" = \"black\")) +\n",
    "  labs(\n",
    "    x = \"OR\",\n",
    "    y = NULL,\n",
    "  ) +\n",
    "  theme_minimal() +\n",
    "  theme(legend.position = \"none\")\n",
    "ggsave('result/multiregresion-tree.pdf', h = 7, w = 7)"
   ]
  },
  {
   "cell_type": "code",
   "execution_count": null,
   "id": "3af7b695-6ae9-47c5-86e0-8d81ad56f54a",
   "metadata": {},
   "outputs": [],
   "source": []
  }
 ],
 "metadata": {
  "kernelspec": {
   "display_name": "myR/4.2.0",
   "language": "R",
   "name": "r_4.2.0"
  },
  "language_info": {
   "codemirror_mode": "r",
   "file_extension": ".r",
   "mimetype": "text/x-r-source",
   "name": "R",
   "pygments_lexer": "r",
   "version": "4.3.1"
  }
 },
 "nbformat": 4,
 "nbformat_minor": 5
}
